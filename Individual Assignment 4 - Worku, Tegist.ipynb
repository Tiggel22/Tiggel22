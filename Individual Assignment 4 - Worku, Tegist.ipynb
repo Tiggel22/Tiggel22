{
 "cells": [
  {
   "cell_type": "markdown",
   "id": "510d0e53",
   "metadata": {},
   "source": [
    "# Individual Assignment 4: Tea Shop Ordering System\n",
    "\n",
    "This program allows users to order tea from the listed menu. User can add as many orders to their cart as desired. Additionally user can apply a coupon code for a 10% discount. The program displays an itemized receipt of the customers order, the total pre discount, and the total post discount (if applied). \n",
    "\n",
    "- Input: order & discount coude\n",
    "- Output: itemized list of order, total pre&post discount, welcome discount offer for customers\n",
    "- Author: Tegist Worku\n",
    "- Date: 20 June 2023"
   ]
  },
  {
   "cell_type": "code",
   "execution_count": 24,
   "id": "93020ef4",
   "metadata": {
    "scrolled": true
   },
   "outputs": [
    {
     "name": "stdout",
     "output_type": "stream",
     "text": [
      "Welcome to Happy Tea Shop! Please order from the following items:\n",
      "Taro Bubble Tea      8\n",
      "Oolon Tea            7\n",
      "Tea Meets Coffee     8\n",
      "Lemongrass Tea       8\n",
      "Veggie Gua Bao       10\n",
      "Cheese Burger        13\n",
      "Tamago Sando         10\n",
      "Please enter the item you need. Hit enter (blank) to stop:\n",
      "Oolon Tea\n",
      "Please enter the item you need. Hit enter (blank to stop):Tamago Sando\n",
      "Please enter the item you need. Hit enter (blank to stop):Taro Bubble Tea\n",
      "Please enter the item you need. Hit enter (blank to stop):\n"
     ]
    },
    {
     "data": {
      "text/plain": [
       "(25, ['Oolon Tea', 'Tamago Sando', 'Taro Bubble Tea'])"
      ]
     },
     "execution_count": 24,
     "metadata": {},
     "output_type": "execute_result"
    }
   ],
   "source": [
    "import pprint\n",
    "import pandas as pd\n",
    "print('Welcome to Happy Tea Shop! Please order from the following items:')\n",
    "menu = {'Taro Bubble Tea':'8','Oolon Tea':'7','Tea Meets Coffee':'8','Lemongrass Tea':'8','Veggie Gua Bao':'10','Cheese Burger':'13','Tamago Sando':'10'}\n",
    "\n",
    "discount = ['welcome','old friend','until again', 'red blue and white', 'second chance', 'service']\n",
    "\n",
    "for items, price in menu.items():\n",
    "    print(items.ljust(20), price)\n",
    "\n",
    "    \n",
    "def coupon(price):\n",
    "    \n",
    "def orders():\n",
    "    print('Please enter the item you need. Hit enter (blank) to stop:')\n",
    "    cart = []\n",
    "    price = 0\n",
    "    item = input()\n",
    "    \n",
    "    if item == '':\n",
    "        print('No items where selected.')\n",
    "        return\n",
    "    while item != '':\n",
    "        if item in cart:\n",
    "            print(f\"Order {item} is already in cart\")\n",
    "        else:\n",
    "            if item in menu:\n",
    "                cart.append(item)\n",
    "                price = price + int(menu[item])\n",
    "            else:\n",
    "                print(f\"Sorry, we do not have {item} in our menu\")\n",
    "        print(\"Please enter the item you need. Hit enter (blank to stop):\", end='')\n",
    "        \n",
    "        item =input()\n",
    "    print(\"Please enter coupon code if you have one:\")\n",
    "    return price, cart\n",
    "\n",
    "        \n",
    "orders()"
   ]
  },
  {
   "cell_type": "code",
   "execution_count": null,
   "id": "3efe53ee",
   "metadata": {},
   "outputs": [],
   "source": []
  },
  {
   "cell_type": "code",
   "execution_count": null,
   "id": "48921bb9",
   "metadata": {},
   "outputs": [],
   "source": []
  }
 ],
 "metadata": {
  "kernelspec": {
   "display_name": "Python 3 (ipykernel)",
   "language": "python",
   "name": "python3"
  },
  "language_info": {
   "codemirror_mode": {
    "name": "ipython",
    "version": 3
   },
   "file_extension": ".py",
   "mimetype": "text/x-python",
   "name": "python",
   "nbconvert_exporter": "python",
   "pygments_lexer": "ipython3",
   "version": "3.9.12"
  }
 },
 "nbformat": 4,
 "nbformat_minor": 5
}
