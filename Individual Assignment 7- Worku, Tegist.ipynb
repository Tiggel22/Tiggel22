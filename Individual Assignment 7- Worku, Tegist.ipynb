{
 "cells": [
  {
   "cell_type": "markdown",
   "id": "69277350",
   "metadata": {},
   "source": [
    "# Individual Assignment 7: State Tax Income\n",
    "\n",
    "This program provides tax information to the user upon their request. User can input a state abbreviation and year and the different types of taxes/amount will be displayed.\n",
    "\n",
    "- Input: abbreviation & year\n",
    "- Output: state tax information\n",
    "- Author: Tegist Worku\n",
    "- Date: 2023 June 30"
   ]
  },
  {
   "cell_type": "code",
   "execution_count": 105,
   "id": "fa9cf1c1",
   "metadata": {},
   "outputs": [
    {
     "name": "stdout",
     "output_type": "stream",
     "text": [
      "Please enter the state abbreviation to see the tax information\n",
      "op\n",
      "The state abbreviation is not valid, please enter again:\n",
      "pp\n",
      "The state abbreviation is not valid, please enter again:\n",
      "wy\n",
      "Please enter the year (2015 or 2016)\n",
      "2007\n",
      "Currently only the data for 2015 & 2016 are available, please enter again:\n",
      "1995\n",
      "Currently only the data for 2015 & 2016 are available, please enter again:\n",
      "2015\n",
      "                                Amount ($1,000)\n",
      "Meaning of Tax Type                            \n",
      "Total Taxes                           2356323.0\n",
      "Property Taxes                         318569.0\n",
      "Sales and Gross Receipts Taxes         994850.0\n",
      "License Taxes                          153768.0\n",
      "Income Taxes                                0.0\n",
      "Other Taxes                            889136.0\n"
     ]
    }
   ],
   "source": [
    "# import the necessary libraries \n",
    "import pandas as pd\n",
    "import numpy as np\n",
    "\n",
    "# read in files \n",
    "abbrev = pd.read_csv('state-abbrevs.csv')\n",
    "stateTax2015 = pd.read_csv('STC_2015_00A2_with_ann.csv')\n",
    "stateTax2016 = pd.read_csv('STC_2016_00A2_with_ann.csv')\n",
    "\n",
    "# combine the 2015 & 2016 dataframes \n",
    "stateTaxComb = pd.concat([stateTax2015, stateTax2016], ignore_index=True)\n",
    "\n",
    "# merge the state abbrevs dataframe with the combined dataframe & set all na to 0\n",
    "stateTaxAbbrev = pd.merge(abbrev, stateTaxComb, left_on='state',right_on='Geographic area name' )\n",
    "stateTaxAbbrev = stateTaxAbbrev.fillna(0)\n",
    "\n",
    "# prompt user to input the state abbreviation & make sure it's valid\n",
    "print('Please enter the state abbreviation to see the tax information')\n",
    "abbrev = input().upper()\n",
    "while abbrev not in stateTaxAbbrev['abbreviation'].values:\n",
    "    print(\"The state abbreviation is not valid, please enter again:\") \n",
    "    abbrev = input().upper()\n",
    "\n",
    "# prompt user to input year & make sure it's valid\n",
    "print('Please enter the year (2015 or 2016)')\n",
    "year = int(input())\n",
    "while year != 2015 and year != 2016:\n",
    "    print(\"Currently only the data for 2015 & 2016 are available, please enter again:\") \n",
    "    year = int(input())\n",
    "\n",
    "# set a mask to get desired inputted data\n",
    "mask = (stateTaxAbbrev['Year']==year) & (stateTaxAbbrev['abbreviation']==abbrev)\n",
    "taxInfo = stateTaxAbbrev[mask]\n",
    "\n",
    "# fancy indexing to only display desired columns\n",
    "showCol = np.array(['Meaning of Tax Type','Amount ($1,000)'])\n",
    "taxInfo = taxInfo[showCol].set_index('Meaning of Tax Type')\n",
    "print(taxInfo)"
   ]
  },
  {
   "cell_type": "code",
   "execution_count": null,
   "id": "dba17118",
   "metadata": {},
   "outputs": [],
   "source": []
  },
  {
   "cell_type": "code",
   "execution_count": null,
   "id": "67f6070a",
   "metadata": {},
   "outputs": [],
   "source": []
  }
 ],
 "metadata": {
  "kernelspec": {
   "display_name": "Python 3 (ipykernel)",
   "language": "python",
   "name": "python3"
  },
  "language_info": {
   "codemirror_mode": {
    "name": "ipython",
    "version": 3
   },
   "file_extension": ".py",
   "mimetype": "text/x-python",
   "name": "python",
   "nbconvert_exporter": "python",
   "pygments_lexer": "ipython3",
   "version": "3.10.9"
  }
 },
 "nbformat": 4,
 "nbformat_minor": 5
}
