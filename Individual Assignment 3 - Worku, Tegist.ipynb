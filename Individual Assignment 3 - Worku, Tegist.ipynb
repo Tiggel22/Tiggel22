{
 "cells": [
  {
   "cell_type": "markdown",
   "id": "fc45d2af",
   "metadata": {},
   "source": [
    "# Individual Assignment 3\n",
    "\n",
    "This program allows user to input the number of books checked out and the number of days it is overdue. The program then calculates the fine.\n",
    "\n",
    "- Input: Number of books & days overdue\n",
    "- Output: Total fine\n",
    "- Author: Tegist Worku\n",
    "- Date: 15 June 2023"
   ]
  },
  {
   "cell_type": "code",
   "execution_count": 9,
   "id": "9a17a7e9",
   "metadata": {},
   "outputs": [
    {
     "name": "stdout",
     "output_type": "stream",
     "text": [
      "Please enter the number of books you have checked out!\n",
      "4\n",
      "For book 1 ,please enter the number of days overdue.\n",
      "10\n",
      "Book 1: 10 day(s) overdue, the fine is $1.3\n",
      "For book 2 ,please enter the number of days overdue.\n",
      "12\n",
      "Book 2: 12 day(s) overdue, the fine is $1.7\n",
      "For book 3 ,please enter the number of days overdue.\n",
      "30\n",
      "Book 3: 30 day(s) overdue, the fine is $5.3\n",
      "For book 4 ,please enter the number of days overdue.\n",
      "45\n",
      "Book 4: 45 day(s) overdue, the fine is $8.3\n"
     ]
    }
   ],
   "source": [
    "def feeCalc(d):\n",
    "    if d <= 7:\n",
    "        fee = d * .10\n",
    "    elif d > 7:\n",
    "        fee1 = 7 * .10\n",
    "        dif = d - 7 \n",
    "        fee = fee1 + (dif * .20)\n",
    "    return fee\n",
    "        \n",
    "# Prompt user to enter the number of books checked out\n",
    "print('Please enter the number of books you have checked out!')\n",
    "books = int(input())\n",
    "\n",
    "formatter = '{:,.2f}'\n",
    "counter = 1\n",
    "for counter in range(books):\n",
    "    print('For book ' + str(counter+1) + ' ,please enter the number of days overdue.')\n",
    "    daysOverdue = int(input())\n",
    "    if daysOverdue < 0:\n",
    "        print('You can not have a negative number of books checked out! \\nEnter again:')\n",
    "    totalFee = feeCalc(daysOverdue)\n",
    "    print('Book ' + str(counter+1) + ': ' + str(daysOverdue) + ' day(s) overdue, the fine is $' + str(formatter.format(totalFee)) )\n",
    "    print('Would you like to calcualte the fine for another patron? (Y to continue)')\n",
    "    choice = input()\n",
    "    while choice.upper() == 'Y':\n",
    "        if choice.upper() == 'Y':\n",
    "            continue\n",
    "        elif choice\n",
    "        "
   ]
  },
  {
   "cell_type": "code",
   "execution_count": null,
   "id": "ba919d7d",
   "metadata": {},
   "outputs": [],
   "source": []
  }
 ],
 "metadata": {
  "kernelspec": {
   "display_name": "Python 3 (ipykernel)",
   "language": "python",
   "name": "python3"
  },
  "language_info": {
   "codemirror_mode": {
    "name": "ipython",
    "version": 3
   },
   "file_extension": ".py",
   "mimetype": "text/x-python",
   "name": "python",
   "nbconvert_exporter": "python",
   "pygments_lexer": "ipython3",
   "version": "3.9.12"
  }
 },
 "nbformat": 4,
 "nbformat_minor": 5
}
